{
 "cells": [
  {
   "cell_type": "markdown",
   "metadata": {},
   "source": [
    "1. 這次作業包含了:\n",
    "    * HW3_Logistic Regression.ipynb:使用Logistic Regression對股價漲跌做預測\n",
    "    * HW3_SVM.ipynb:使用SVM對股價漲跌做預測\n",
    "    * HW3_Neural Networks.ipynb:使用Neural Network對股價漲跌做預測\n",
    "    * Stock_Func.py:計算輸入資料會用到的股市相關指標(RSI,K/D,RSI etc.)\n",
    "    * test.csv: 訓練用股價資料(20090102-20171229)\n",
    "    * train.csv:測試用股價資料(20180102-20181231)\n",
    "2. Input之所有欄位說明\n",
    "    * Date:日期\n",
    "    * Open Price:當日開盤價格\n",
    "    * Close Price:當日收盤價格\n",
    "    * High Price:當日最高價格\n",
    "    * Low Price:當日最低價格\n",
    "    * Volume:當日成交量\n",
    "    * RSV:可顯示當日收盤價格在一段時間內相對於其波動範圍(9天)的位置，範圍為0-100  \n",
    "        * RSV = 100 * （今日收盤價－最近９天的最低價）／（最近９天的最高價－最近９天的最低價）\n",
    "    * Kvalue:取 RSV 的加權移動平均，變化情形較劇烈  \n",
    "        * Kvalue = 前一天的Kvalue＊２／３　＋　當日RSV＊１／３\n",
    "    * Dvalue:取 K 值的加權移動平均，變化情形較平緩  \n",
    "        * Dvalue = 前一天的Dvalue＊２／３　＋　當日Kvalue＊１／３\n",
    "    * RisePredict:明天是否會漲（漲：１　跌：０）\n",
    "    * Up_Down:今日漲跌幅（今日收盤價－昨日收盤價）\n",
    "    * RSI6:藉比較價格升降運動以表達價格強度的技術分析工具。\n",
    "        * RSI6 = １００＊６日內的漲幅／（６日內的漲幅＋６日內的跌幅）\n",
    "    * RSI12\t \n",
    "       * RSI12 = １００＊１２日內的漲幅／（１２日內的漲幅＋１２日內的跌幅）\n",
    "    * KD_variation:藉由K/D值變化來反應目前該股是否強勢\n",
    "        * 黃金交叉：若Kvalue由下往上突破Dvalue，表示該股上漲機率高  \n",
    "        * 死亡交叉：若Kvalue由上往下跌破Dvalue，表示該股下跌機率高\n",
    "        * 黃金交叉（２）,死亡交叉（－２）,Kvalue和Dvalue皆向上（１）,Kvalue和Dvalue皆向下（－１）,Kvalue和Dvalue連續兩天相等（０）\n",
    "    * KD_strength:藉由K/D值來反應目前該股是否強勢\n",
    "        * Kvalue和Dvalue皆大於８０：該股處於強勢期，上漲機率高\n",
    "        * Kvalue和Dvalue皆小於２０：該股處於弱勢期，下跌機率高\n",
    "        * Kvalue和Dvalue皆大於８０（１）,Kvalue和Dvalue皆小於２０（－１）,其他狀況（０）\n",
    "    * RSI_variation:藉由短周期(RSI6)和長周期(RSI12)RSI值的變化來反應目前該股是否強勢\n",
    "        * 黃金交叉：若RSI6由下往上突破 RSI12，表示該股上漲機率高\n",
    "        * 死亡交叉：若RSI6由上往下跌破 RSI12，表示該股下跌機率高\n",
    "        * 黃金交叉（２）,死亡交叉（－２）,RSI6和RSI12皆向上（１）,RSI6和RSI12皆向下（－１）,RSI6和RSI12連續兩天相等（０）\n",
    "3. 一開始使用原始資料所給予的欄位:\"Open Price\",\"Close Price\",\"High Price\",\"Low Price\",\"Volume\"，不論是使用哪一種model，預測結果都僅會出現\"上漲\"的結果，此時猜測原始的資料欄位在對股票漲跌的預測上，可能不是關鍵性的決定因素。  \n",
    "在上網查詢過資料之後，發現一般投資客在投資股票時，多半會參考一些技術指標(如KD, MACD, 乖離率等等)，因此決定新增相關技術指標到輸入資料中；在此，我加入了<b>\"KD值\"</b>以及<b>\"RSI值\"</b>，在每一個model中，我分別使用<b>\"原始資料\"</b>、<b>\"KD值為主\"</b>以及<b>\"RSI值為主\"</b>作為input，也就是說，每種model我都進行了三次預測。  \n",
    "結果部分如下表:\n",
    "\n",
    "    \n",
    "Model  | Logistic Regression  | SVM | Neural Network \n",
    "--------------|:-----:|-----:| ----\n",
    "Original Input | 51.46% |  47.28 % |    51.05 %\n",
    "K/D Input    | 53.14% |  51.05 % |  52.72 %\n",
    "RSI Input  | 50.21% | 51.05 % |  50.63 %   \n",
    "\n",
    "\n",
    "    在Original Input中，若將全部的欄位作為輸入，只會得到全部都是預測上漲的結果，在經過多番嘗試後，我使用了\"Open Price\" \"Close Price\" \"Low Price\" \"High Price\"這4個欄位做輸入，\"Volume\"不論在上漲或下跌時都可能出現巨量或者少量的情形，因此影響了model的預測品質。  \n",
    "  \n",
    "    在K/D Input中，我使用了\"High Price\" \"Kvalue\" \"Dvalue\" \"KD_variation\" \"KD_strength\"這五個欄位做輸入，其中K/D值的交錯情形和大小可用來判斷該股票的強勢和弱勢。  \n",
    "  \n",
    "    在RSI Input中，使用了\"High Price\" \"RSI12\" \"RSI_variation\"這三個欄位做輸入，RSI的部分我用了6天和12天兩個時間週期，但預測結果卻沒比Original Input要好，推測此指標單獨使用可能會有較多的限制，要搭配其他指標才會有較好的結果。  \n",
    "  \n",
    "    在三種model中，可以看到使用K/D值作為input可得到最好的accuracy，而其中又以Logistic Regression Model最高，在使用Neural Network時，會因為訓練次數的增加，而產生較好的accuracy(但次數過多會導致overfitting)。  \n",
    "      \n",
    "    針對這三種model，Neural Network由於layer的數量和參數可自訂的項目極多，我認為在accuracy的改善上有比較大的空間，在這次的作業中，對於accuracy的影響，我認為input占了蠻大的比重，但在嘗試加入一些技術指標後，收到的成果並不算好，而在model的調整上也是無所適從，對於這些model參數以及股票操作不熟悉的情況下，無法清楚窺見問題的本質，不清楚究竟該著重於input還是model。"
   ]
  },
  {
   "cell_type": "code",
   "execution_count": null,
   "metadata": {},
   "outputs": [],
   "source": []
  }
 ],
 "metadata": {
  "kernelspec": {
   "display_name": "Python 3",
   "language": "python",
   "name": "python3"
  },
  "language_info": {
   "codemirror_mode": {
    "name": "ipython",
    "version": 3
   },
   "file_extension": ".py",
   "mimetype": "text/x-python",
   "name": "python",
   "nbconvert_exporter": "python",
   "pygments_lexer": "ipython3",
   "version": "3.5.2"
  }
 },
 "nbformat": 4,
 "nbformat_minor": 2
}
