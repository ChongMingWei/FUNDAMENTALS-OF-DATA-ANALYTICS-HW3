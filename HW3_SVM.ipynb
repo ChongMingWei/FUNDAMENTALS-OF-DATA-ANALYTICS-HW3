{
 "cells": [
  {
   "cell_type": "code",
   "execution_count": 1,
   "metadata": {},
   "outputs": [],
   "source": [
    "import pandas as pd\n",
    "import numpy as np\n",
    "import Stock_Func"
   ]
  },
  {
   "cell_type": "code",
   "execution_count": 2,
   "metadata": {},
   "outputs": [],
   "source": [
    "train_data = pd.read_csv('train.csv', sep=',', index_col=0)\n",
    "test_data = pd.read_csv('test.csv', sep=',', index_col=0)"
   ]
  },
  {
   "cell_type": "markdown",
   "metadata": {},
   "source": [
    "## Add some attributes as we do in Logistic Regression part"
   ]
  },
  {
   "cell_type": "code",
   "execution_count": 3,
   "metadata": {},
   "outputs": [],
   "source": [
    "test_data = Stock_Func.NewFeature(test_data)\n",
    "train_data = Stock_Func.NewFeature(train_data)\n",
    "test_data = Stock_Func.Up_Down(test_data)\n",
    "train_data = Stock_Func.Up_Down(train_data)\n",
    "test_data = Stock_Func.AddRSI6(test_data)\n",
    "train_data = Stock_Func.AddRSI6(train_data)\n",
    "test_data = Stock_Func.AddRSI12(test_data)\n",
    "train_data = Stock_Func.AddRSI12(train_data)\n",
    "train_data = train_data.drop(train_data.index[[0,1,2,3,4,5,6,7,\n",
    "                                               8,9,10,11,\n",
    "                                               train_data.shape[0]-1]])\n",
    "test_data = test_data.drop(test_data.index[[0,1,2,3,4,5,6,7,\n",
    "                                            8,9,10,11,\n",
    "                                            test_data.shape[0]-1]])\n",
    "train_data = Stock_Func.KD_variation(train_data)\n",
    "test_data = Stock_Func.KD_variation(test_data)\n",
    "train_data = Stock_Func.KD_strength(train_data)\n",
    "test_data = Stock_Func.KD_strength(test_data)\n",
    "train_data = Stock_Func.RSI_variation(train_data)\n",
    "test_data = Stock_Func.RSI_variation(test_data)"
   ]
  },
  {
   "cell_type": "markdown",
   "metadata": {},
   "source": [
    "# Train the model\n",
    "## Use the original data to predict the up and down.\n",
    "#### Attributes:\t\"Open Price\"\t\"Close Price\"\t\"Low Price\"\t  \"High Price\""
   ]
  },
  {
   "cell_type": "code",
   "execution_count": 4,
   "metadata": {},
   "outputs": [],
   "source": [
    "drop_list = ['Volume','RSV','Up_Down','RSI6','RSI12','RSI_variation',\n",
    "            'Kvalue','Dvalue','KD_variation','KD_strength']\n",
    "_train_data = train_data\n",
    "_test_data = test_data\n",
    "_train_data = train_data.drop(drop_list, axis = 1)\n",
    "_test_data = test_data.drop(drop_list, axis = 1) \n",
    "\n",
    "x_train = _train_data.loc[:, _train_data.columns != 'RisePredict']\n",
    "y_train = _train_data['RisePredict']\n",
    "x_test = _test_data.loc[:, _test_data.columns != 'RisePredict']\n",
    "y_test = _test_data['RisePredict']"
   ]
  },
  {
   "cell_type": "markdown",
   "metadata": {},
   "source": [
    "## Standardization"
   ]
  },
  {
   "cell_type": "code",
   "execution_count": 5,
   "metadata": {},
   "outputs": [],
   "source": [
    "from sklearn.preprocessing import StandardScaler\n",
    "\n",
    "scaler = StandardScaler()\n",
    "scaler.fit(x_train)\n",
    "\n",
    "x_train_std = scaler.transform(x_train)\n",
    "x_test_std = scaler.transform(x_test)"
   ]
  },
  {
   "cell_type": "markdown",
   "metadata": {},
   "source": [
    "## Import SVM"
   ]
  },
  {
   "cell_type": "code",
   "execution_count": 6,
   "metadata": {},
   "outputs": [
    {
     "name": "stdout",
     "output_type": "stream",
     "text": [
      "Penalty = 0.05, Accuracy = 47.28 %\n"
     ]
    }
   ],
   "source": [
    "from sklearn.svm import SVC\n",
    "from sklearn.metrics import accuracy_score\n",
    "\n",
    "penalty = 0.05\n",
    "\n",
    "svm = SVC(C=penalty, kernel=\"linear\", probability=True)\n",
    "svm.fit(x_train, y_train.values)\n",
    "  \n",
    "acc_rate = accuracy_score(y_test.values, svm.predict(x_test)) * 100\n",
    "print(\"Penalty = %.2f, Accuracy = %.2f %%\" % (penalty, acc_rate))"
   ]
  },
  {
   "cell_type": "markdown",
   "metadata": {},
   "source": [
    "## Use the K/D value to predict the up and down.\n",
    "#### Attributes:\t\"High Price\"\t\"Kvalue\"\t\"Dvalue\"\t\"KD_variation\"\t\"KD_strength\""
   ]
  },
  {
   "cell_type": "code",
   "execution_count": 7,
   "metadata": {},
   "outputs": [],
   "source": [
    "drop_list = ['Open Price','Close Price','Low Price','Volume','RSV','Up_Down','RSI6','RSI12','RSI_variation']\n",
    "_train_data = train_data\n",
    "_test_data = test_data\n",
    "_train_data = train_data.drop(drop_list, axis = 1)\n",
    "_test_data = test_data.drop(drop_list, axis = 1) \n",
    "\n",
    "x_train = _train_data.loc[:, _train_data.columns != 'RisePredict']\n",
    "y_train = _train_data['RisePredict']\n",
    "x_test = _test_data.loc[:, _test_data.columns != 'RisePredict']\n",
    "y_test = _test_data['RisePredict']"
   ]
  },
  {
   "cell_type": "markdown",
   "metadata": {},
   "source": [
    "## Standardization"
   ]
  },
  {
   "cell_type": "code",
   "execution_count": 8,
   "metadata": {},
   "outputs": [
    {
     "name": "stderr",
     "output_type": "stream",
     "text": [
      "/home/cmw/.local/lib/python3.5/site-packages/sklearn/preprocessing/data.py:645: DataConversionWarning: Data with input dtype int64, float64 were all converted to float64 by StandardScaler.\n",
      "  return self.partial_fit(X, y)\n",
      "/home/cmw/.local/lib/python3.5/site-packages/ipykernel_launcher.py:4: DataConversionWarning: Data with input dtype int64, float64 were all converted to float64 by StandardScaler.\n",
      "  after removing the cwd from sys.path.\n",
      "/home/cmw/.local/lib/python3.5/site-packages/ipykernel_launcher.py:5: DataConversionWarning: Data with input dtype int64, float64 were all converted to float64 by StandardScaler.\n",
      "  \"\"\"\n"
     ]
    }
   ],
   "source": [
    "scaler2 = StandardScaler()\n",
    "scaler2.fit(x_train)\n",
    "\n",
    "x_train_std = scaler2.transform(x_train)\n",
    "x_test_std = scaler2.transform(x_test)"
   ]
  },
  {
   "cell_type": "markdown",
   "metadata": {},
   "source": [
    "## Import SVM"
   ]
  },
  {
   "cell_type": "code",
   "execution_count": 9,
   "metadata": {},
   "outputs": [
    {
     "name": "stdout",
     "output_type": "stream",
     "text": [
      "Penalty = 0.05, Accuracy = 51.05 %\n"
     ]
    }
   ],
   "source": [
    "penalty = 0.05\n",
    "\n",
    "svm = SVC(C=penalty, kernel=\"linear\", probability=True)\n",
    "svm.fit(x_train, y_train.values)\n",
    "  \n",
    "acc_rate = accuracy_score(y_test.values, svm.predict(x_test)) * 100\n",
    "print(\"Penalty = %.2f, Accuracy = %.2f %%\" % (penalty, acc_rate))"
   ]
  },
  {
   "cell_type": "markdown",
   "metadata": {},
   "source": [
    "## Use the RSI6/RSI12 value to predict the up and down.\n",
    "#### Attributes:\t\"High Price\"\t\"RSI12\"\t\t\"RSI_variation\""
   ]
  },
  {
   "cell_type": "code",
   "execution_count": 10,
   "metadata": {},
   "outputs": [],
   "source": [
    "drop_list = ['Open Price','Close Price','Low Price','Volume','RSV',\n",
    "             'RSI6','Up_Down','Kvalue','Dvalue','KD_variation','KD_strength']\n",
    "_train_data = train_data\n",
    "_test_data = test_data\n",
    "_train_data = train_data.drop(drop_list, axis = 1)\n",
    "_test_data = test_data.drop(drop_list, axis = 1) \n",
    "\n",
    "x_train = _train_data.loc[:, _train_data.columns != 'RisePredict']\n",
    "y_train = _train_data['RisePredict']\n",
    "x_test = _test_data.loc[:, _test_data.columns != 'RisePredict']\n",
    "y_test = _test_data['RisePredict']"
   ]
  },
  {
   "cell_type": "markdown",
   "metadata": {},
   "source": [
    "## Standardization"
   ]
  },
  {
   "cell_type": "code",
   "execution_count": 11,
   "metadata": {},
   "outputs": [
    {
     "name": "stderr",
     "output_type": "stream",
     "text": [
      "/home/cmw/.local/lib/python3.5/site-packages/sklearn/preprocessing/data.py:645: DataConversionWarning: Data with input dtype int64, float64 were all converted to float64 by StandardScaler.\n",
      "  return self.partial_fit(X, y)\n",
      "/home/cmw/.local/lib/python3.5/site-packages/ipykernel_launcher.py:4: DataConversionWarning: Data with input dtype int64, float64 were all converted to float64 by StandardScaler.\n",
      "  after removing the cwd from sys.path.\n",
      "/home/cmw/.local/lib/python3.5/site-packages/ipykernel_launcher.py:5: DataConversionWarning: Data with input dtype int64, float64 were all converted to float64 by StandardScaler.\n",
      "  \"\"\"\n"
     ]
    }
   ],
   "source": [
    "scaler3 = StandardScaler()\n",
    "scaler3.fit(x_train)\n",
    "\n",
    "x_train_std = scaler3.transform(x_train)\n",
    "x_test_std = scaler3.transform(x_test)"
   ]
  },
  {
   "cell_type": "markdown",
   "metadata": {},
   "source": [
    "## Import SVM"
   ]
  },
  {
   "cell_type": "code",
   "execution_count": 12,
   "metadata": {},
   "outputs": [
    {
     "name": "stdout",
     "output_type": "stream",
     "text": [
      "Penalty = 0.05, Accuracy = 51.05 %\n"
     ]
    }
   ],
   "source": [
    "penalty = 0.05\n",
    "\n",
    "svm = SVC(C=penalty, kernel=\"linear\", probability=True)\n",
    "svm.fit(x_train, y_train.values)\n",
    "  \n",
    "acc_rate = accuracy_score(y_test.values, svm.predict(x_test)) * 100\n",
    "print(\"Penalty = %.2f, Accuracy = %.2f %%\" % (penalty, acc_rate))"
   ]
  }
 ],
 "metadata": {
  "kernelspec": {
   "display_name": "Python 3",
   "language": "python",
   "name": "python3"
  },
  "language_info": {
   "codemirror_mode": {
    "name": "ipython",
    "version": 3
   },
   "file_extension": ".py",
   "mimetype": "text/x-python",
   "name": "python",
   "nbconvert_exporter": "python",
   "pygments_lexer": "ipython3",
   "version": "3.5.2"
  }
 },
 "nbformat": 4,
 "nbformat_minor": 2
}
